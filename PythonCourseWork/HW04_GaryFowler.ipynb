{
 "cells": [
  {
   "cell_type": "markdown",
   "metadata": {},
   "source": [
    "# HW 04 \n",
    "# Gary Fowler\n",
    "\n",
    "\n",
    "## Exercise 5.1 \n",
    "\n",
    "### Difference function\n",
    "\n",
    "#### This document is uncomplete and has some errors in the later problems.\n",
    "\n",
    "\n",
    "Write a program to read velocities.txt (a file with two columns, the first is time and the second is velocity at that time) and do the following:\n",
    "a) Read in the data and using the trapezoidal rule calculate the approximate distance traveled by the particle in the x direction as a function of time.\n",
    "b) Extend the program to make a graph that shows on the same plot, both the original veloctiy curve and the distance traveled as a function of time.\n"
   ]
  },
  {
   "cell_type": "code",
   "execution_count": 27,
   "metadata": {},
   "outputs": [
    {
     "name": "stdout",
     "output_type": "stream",
     "text": [
      "1328.918592\n"
     ]
    },
    {
     "data": {
      "image/png": "[encoded data removed]",
      "text/plain": [
       "<matplotlib.figure.Figure at 0x26f662cf240>"
      ]
     },
     "metadata": {},
     "output_type": "display_data"
    }
   ],
   "source": [
    "## @author: Gary Fowler\n",
    "\n",
    "\"\"\"\n",
    "@N: the loop controller, based on the size of the file\n",
    "@data: the data from the file, should be a two dimensional array\n",
    "@time: the time column from the file\n",
    "@velocity: the velocity column from th file\n",
    "@x: the distance traveled, is a one dimensional array\n",
    "\n",
    "in this program we will calculate the distance traveled of a particle given its velocity and time traveled\n",
    "we will also plot the velocity curve and the distance traveled\n",
    "\n",
    "\"\"\"\n",
    "\n",
    "import numpy as np\n",
    "import matplotlib.pyplot as plt\n",
    "\n",
    "#part a\n",
    "data = np.loadtxt(\"velocities.txt\",float)\n",
    "\n",
    "time = data[:,0]\n",
    "velocity = data[:,1]\n",
    "\n",
    "#use a difference equation\n",
    "N = len(time)\n",
    "\n",
    "x = np.zeros(len(time))\n",
    "x[0] = 0.0\n",
    "for i in range(N - 1):\n",
    "    x[i+1] = x[i] + (time[i+1] - time[i])*(velocity[i+1] + velocity[i]) / 2\n",
    "\n",
    "\n",
    "print(sum(x))\n",
    "\n",
    "plt.plot(time,velocity)\n",
    "plt.plot(time,x)\n",
    "plt.show()"
   ]
  },
  {
   "cell_type": "markdown",
   "metadata": {},
   "source": [
    "## Exercise 5.2 \n",
    "\n",
    "### Simpson's Rule Integration\n",
    "\n",
    "\n",
    "Write a program to:\n",
    "a) Calculate the integral from 0-2 of x^4 - 2x + 1 using Simpson's Rule and 10 slices.\n",
    "b) Run the program and compare the result to the known value, compute the error.\n",
    "c) Modify the program to use a hundred slices, then a thousand. Note the improvement."
   ]
  },
  {
   "cell_type": "code",
   "execution_count": 41,
   "metadata": {},
   "outputs": [
    {
     "name": "stdout",
     "output_type": "stream",
     "text": [
      "\n",
      "Simpson's Rule Integral estimate:  4.400000000004266\n",
      "Percent error:  9.69527488595e-11\n"
     ]
    }
   ],
   "source": [
    "## @author: Gary Fowler\n",
    "\n",
    "\"\"\"\n",
    "@N: the number of slices\n",
    "@a, b: the range of integration\n",
    "@h: the width of the slices\n",
    "@true_result: the known result of the integral\n",
    "@s: the running sum of the integration\n",
    "\n",
    "@f(x): the function to be integrated, accepts the mathematical function input and returns the mathematical function output\n",
    "\n",
    "in this program we will integrate using Simpson's Rule\n",
    "\n",
    "\"\"\"\n",
    "import numpy as np\n",
    "\n",
    "def f(x):\n",
    "    return x**4 - 2*x + 1\n",
    "\n",
    "N = 1000\n",
    "a = 0\n",
    "b = 2.0\n",
    "h = (b-a)/N\n",
    "true_result = 4.4\n",
    " \n",
    "s = (f(a) + f(b))\n",
    "\n",
    "for k in range(1,N,2):\n",
    "    s += 4.*f(a+k*h)\n",
    "    \n",
    "for k in range(2,N,2):\n",
    "    s += 2.*f(a+k*h)\n",
    "    \n",
    "print(\"\\nSimpson's Rule Integral estimate: \",h*s/3.)\n",
    "print(\"Percent error: \",np.abs((h*s)/3.-true_result)/true_result * 100)"
   ]
  },
  {
   "cell_type": "markdown",
   "metadata": {},
   "source": [
    "At N = 10 the estimate is 4.4004266...\n",
    "The error is .009696...%\n",
    "At N = 100 the estimate is 4.4000000426...\n",
    "The error is 9.69...e-07 %\n",
    "At N = 1000 the estimate is 4.400000000004266\n",
    "The error is 9.695e-11 %\n",
    "\n",
    "The results are significantly better than the Trapezoidal rule, which at 10 slices had an answer of 4.5065, even with only ten slices Simpson's Rule was within less than a percent of the correct value."
   ]
  },
  {
   "cell_type": "markdown",
   "metadata": {},
   "source": [
    "## Exercise 5.3 \n",
    "\n",
    "### More Integration\n",
    "\n",
    "Consider the integral, from 0 - x of exp(-t^2)dt\n",
    "Write a program to:\n",
    "a) Calculate E(x) for values of x from 0 to 3 in steps of .1\n",
    "b) When convinced the program is working, extend it to graph E(x) as a function of x."
   ]
  },
  {
   "cell_type": "code",
   "execution_count": 2,
   "metadata": {},
   "outputs": [
    {
     "name": "stdout",
     "output_type": "stream",
     "text": [
      "\n",
      "Simpson's Rule Integral estimate:  0.88620734816\n"
     ]
    },
    {
     "data": {
      "image/png": "[encoded data removed]",
      "text/plain": [
       "<matplotlib.figure.Figure at 0x1cae12592e8>"
      ]
     },
     "metadata": {},
     "output_type": "display_data"
    }
   ],
   "source": [
    "## @author: Gary Fowler\n",
    "\n",
    "\"\"\"\n",
    "@N: the number of slices\n",
    "@a, b: the range of integration\n",
    "@h: the width of the slices\n",
    "@s: the running sum of the integration\n",
    "\n",
    "@f(x): the function to be integrated, accepts the mathematical function input and returns the mathematical function output\n",
    "\n",
    "in this program we will integrate using Simpson's Rule and then plot the result\n",
    "\n",
    "\"\"\"\n",
    "import numpy as np\n",
    "import matplotlib.pyplot as plt\n",
    "\n",
    "def f(x):\n",
    "    return np.exp(-x**2)\n",
    "\n",
    "N = 100\n",
    "a = 0.\n",
    "b = 3.\n",
    "h = (b-a)/N\n",
    " \n",
    "s = (f(a) + f(b))\n",
    "\n",
    "for k in range(1,N,2):\n",
    "    s += 4.*f(a+k*h)\n",
    "    \n",
    "for k in range(2,N,2):\n",
    "    s += 2.*f(a+k*h)\n",
    "\n",
    "print(\"\\nSimpson's Rule Integral estimate: \",h*s/3.)   \n",
    "    \n",
    "x = np.linspace(a,b,N)\n",
    "\n",
    "plt.plot(x,f(x))\n",
    "plt.show()"
   ]
  },
  {
   "cell_type": "markdown",
   "metadata": {},
   "source": [
    "## Exercise 5.6 \n",
    "\n",
    "### More Integration continued\n",
    "\n",
    "Consider the integral from Exercise 5.2.\n",
    "Write a program to calculate the integral using trapezoidal rule with 20 slices, and then calculate an estimate of the error on the result. We will need to calculate the integral twice at N1 = 10 slices and again at N2 = 20 slices. How does the error differ from using the true value error calculation? Why do they not agree perfectly?"
   ]
  },
  {
   "cell_type": "code",
   "execution_count": 7,
   "metadata": {},
   "outputs": [
    {
     "name": "stdout",
     "output_type": "stream",
     "text": [
      "Trapezoidal Rule Integral estimate of 10 slices: 4.50656\n",
      "Trapezoidal Rule Integral estimate of 20 slices: 4.426660000000001\n",
      "The calculated error is: 2.6633333333333136 %\n",
      "The true error of 10 slices is: 2.42181818182 %\n",
      "The true error of 20 slices is: 0.605909090909 %\n"
     ]
    }
   ],
   "source": [
    "## @author: Gary Fowler\n",
    "\n",
    "\"\"\"\n",
    "@N1, N2: the number of slices\n",
    "@a, b: the range of integration\n",
    "@h1, h2: the width of the slices\n",
    "@true_result: the true integration result\n",
    "@s1, s2: the running sum of the integration\n",
    "\n",
    "@f(x): the function to be integrated, accepts the mathematical function input and returns the mathematical function output\n",
    "\n",
    "in this program we will integrate using Trapezoidal rule, calculate the error and then compare that with a true error calculation\n",
    "\n",
    "\"\"\"\n",
    "import numpy as np\n",
    "\n",
    "def f(x):\n",
    "    return x**4 - 2*x + 1\n",
    "\n",
    "N1 = 10\n",
    "N2 = 20\n",
    "a = 0\n",
    "b = 2.\n",
    "h1 = (b-a)/N1\n",
    "h2 = (b-a)/N2\n",
    "true_result = 4.4\n",
    "\n",
    "s1 = 0.5*(f(a) + f(b))\n",
    "for k in range(1,N1):\n",
    "    s1 += f(a+k*h1)\n",
    "\n",
    "s2 = 0.5*(f(a) + f(b))\n",
    "for k in range(1,N2):\n",
    "    s2 += f(a+k*h2)\n",
    "    \n",
    "print(\"Trapezoidal Rule Integral estimate of\",N1,\"slices:\",h1*s1)\n",
    "print(\"Trapezoidal Rule Integral estimate of\",N2,\"slices:\",h2*s2)\n",
    "print(\"The calculated error is:\",(h1*s1 - h2*s2)/3. * 100,\"%\")\n",
    "print(\"The true error of\",N1,\"slices is:\",np.abs((h1*s1)-true_result)/true_result * 100,\"%\")\n",
    "print(\"The true error of\",N2,\"slices is:\",np.abs((h2*s2)-true_result)/true_result * 100,\"%\")"
   ]
  },
  {
   "cell_type": "markdown",
   "metadata": {},
   "source": [
    "The calculated error is larger than the true error values but it is not substantially different. The two differ because we are evaluating the error using the integral answers instead of the actual true answer. Our integral answers are still unaccurate and therefore using them to generate an error will not be completely accurate either."
   ]
  },
  {
   "cell_type": "markdown",
   "metadata": {},
   "source": [
    "## Exercise 5.7a \n",
    "\n",
    "### More Integration continued\n",
    "\n",
    "Consider the integral from 0 - 1 of sin(sqrt(100x))^2\n",
    "Write a program that uses the adaptive trapezoidal method given in the book to calculate the value of this integral to an approximate accurayce of epsilon = 10e-6. Start with a single integration slice and work up from there to 2,4,8,16,...\n",
    "The program should print the number of slices, the integral estimate, and its estimated error of integration, for each value of N until the integral is reached."
   ]
  },
  {
   "cell_type": "code",
   "execution_count": 32,
   "metadata": {
    "scrolled": true
   },
   "outputs": [
    {
     "name": "stdout",
     "output_type": "stream",
     "text": [
      "Trapezoidal Rule Integral estimate of 1 slices: 0.0739897422733\n",
      "0.192158024447\n",
      "Trapezoidal Rule Integral estimate of 2 slices: 0.0369948711367\n",
      "0.50321740023\n",
      "Trapezoidal Rule Integral estimate of 4 slices: 0.0184974355683\n",
      "0.434776744637\n",
      "Trapezoidal Rule Integral estimate of 8 slices: 0.00924871778417\n",
      "1.26546836255\n",
      "Trapezoidal Rule Integral estimate of 16 slices: 0.00462435889208\n",
      "2.53699017405\n",
      "Trapezoidal Rule Integral estimate of 32 slices: 0.00231217944604\n",
      "4.9489418659\n",
      "Trapezoidal Rule Integral estimate of 64 slices: 0.00115608972302\n",
      "9.79366811892\n",
      "Trapezoidal Rule Integral estimate of 128 slices: 0.00057804486151\n",
      "19.508292364\n",
      "Trapezoidal Rule Integral estimate of 256 slices: 0.000289022430755\n",
      "38.9521108239\n",
      "Trapezoidal Rule Integral estimate of 512 slices: 0.000144511215378\n",
      "77.8472852131\n",
      "Trapezoidal Rule Integral estimate of 1024 slices: 7.22556076888e-05\n",
      "155.641434427\n",
      "Trapezoidal Rule Integral estimate of 2048 slices: 3.61278038444e-05\n",
      "311.231637041\n",
      "Trapezoidal Rule Integral estimate of 4096 slices: 1.80639019222e-05\n",
      "622.412994857\n",
      "Trapezoidal Rule Integral estimate of 8192 slices: 9.0319509611e-06\n",
      "1244.77618685\n",
      "Trapezoidal Rule Integral estimate of 16384 slices: 4.51597548055e-06\n",
      "2489.50280901\n",
      "Trapezoidal Rule Integral estimate of 32768 slices: 2.25798774027e-06\n",
      "4978.95617243\n",
      "Trapezoidal Rule Integral estimate of 65536 slices: 1.12899387014e-06\n",
      "9957.86295881\n",
      "Trapezoidal Rule Integral estimate of 131072 slices: 5.64496935069e-07\n",
      "19915.6765614\n",
      "Trapezoidal Rule Integral estimate of 262144 slices: 2.82248467534e-07\n",
      "39831.3037813\n",
      "Trapezoidal Rule Integral estimate of 524288 slices: 1.41124233767e-07\n",
      "79662.5582287\n",
      "Trapezoidal Rule Integral estimate of 1048576 slices: 7.05621168836e-08\n"
     ]
    },
    {
     "ename": "KeyboardInterrupt",
     "evalue": "",
     "output_type": "error",
     "traceback": [
      "\u001b[1;31m---------------------------------------------------------------------------\u001b[0m",
      "\u001b[1;31mKeyboardInterrupt\u001b[0m                         Traceback (most recent call last)",
      "\u001b[1;32m<ipython-input-32-d52349a84158>\u001b[0m in \u001b[0;36m<module>\u001b[1;34m()\u001b[0m\n\u001b[0;32m     35\u001b[0m     \u001b[0mN\u001b[0m \u001b[1;33m*=\u001b[0m \u001b[1;36m2\u001b[0m\u001b[1;33m\u001b[0m\u001b[0m\n\u001b[0;32m     36\u001b[0m     \u001b[1;32mfor\u001b[0m \u001b[0mi\u001b[0m \u001b[1;32min\u001b[0m \u001b[0mrange\u001b[0m\u001b[1;33m(\u001b[0m\u001b[1;36m1\u001b[0m\u001b[1;33m,\u001b[0m\u001b[0mN\u001b[0m\u001b[1;33m,\u001b[0m\u001b[1;36m2\u001b[0m\u001b[1;33m)\u001b[0m\u001b[1;33m:\u001b[0m\u001b[1;33m\u001b[0m\u001b[0m\n\u001b[1;32m---> 37\u001b[1;33m         \u001b[0mI2\u001b[0m \u001b[1;33m+=\u001b[0m \u001b[0mI1\u001b[0m \u001b[1;33m+\u001b[0m \u001b[0mf\u001b[0m\u001b[1;33m(\u001b[0m\u001b[0ma\u001b[0m\u001b[1;33m+\u001b[0m\u001b[0mi\u001b[0m\u001b[1;33m*\u001b[0m\u001b[0mh\u001b[0m\u001b[1;33m)\u001b[0m\u001b[1;33m\u001b[0m\u001b[0m\n\u001b[0m\u001b[0;32m     38\u001b[0m     \u001b[0merror\u001b[0m \u001b[1;33m=\u001b[0m \u001b[0mabs\u001b[0m\u001b[1;33m(\u001b[0m\u001b[0mI2\u001b[0m\u001b[1;33m-\u001b[0m\u001b[0mI1\u001b[0m\u001b[1;33m)\u001b[0m\u001b[1;33m/\u001b[0m\u001b[1;36m3\u001b[0m\u001b[1;33m\u001b[0m\u001b[0m\n\u001b[0;32m     39\u001b[0m     \u001b[0mprint\u001b[0m\u001b[1;33m(\u001b[0m\u001b[0merror\u001b[0m\u001b[1;33m)\u001b[0m\u001b[1;33m\u001b[0m\u001b[0m\n",
      "\u001b[1;31mKeyboardInterrupt\u001b[0m: "
     ]
    }
   ],
   "source": [
    "## @author: Gary Fowler\n",
    "\n",
    "\"\"\"\n",
    "@N: the number of slices\n",
    "@a, b: the range of integration\n",
    "@h: the width of the slices\n",
    "@s: the running sum of the integration\n",
    "@I1: the first integration, this will be the previous integration and the first one at slice 1\n",
    "@I2: the second integration, this is the one that is always adapting\n",
    "\n",
    "@f(x): the function to be integrated, accepts the mathematical function input and returns the mathematical function output\n",
    "\n",
    "in this program we will integrate using Trapezoidal rule but we will adapt the integration \n",
    "and increase the slices until we are within an error threshold, we will be displaying the slice number until\n",
    "we reach that threshold\n",
    "\n",
    "\"\"\"\n",
    "import numpy as np\n",
    "\n",
    "def f(x):\n",
    "    return (np.sin(np.sqrt(100*x)))**2\n",
    "    \n",
    "tolerance = np.exp(-6)\n",
    "a = 0.\n",
    "b = 1.\n",
    "N = 1\n",
    "h = (b-a) / N\n",
    "\n",
    "error = 1.0\n",
    "while abs(error) > tolerance:\n",
    "    I1 = .5 * (f(a) + f(b)) * h\n",
    "    I2 = I1 / 2\n",
    "    print(\"Trapezoidal Rule Integral estimate of\",N,\"slices:\",I2)\n",
    "    h /= 2\n",
    "    N *= 2\n",
    "    for i in range(1,N,2):\n",
    "        I2 += I1 + f(a+i*h)\n",
    "    error = abs(I2-I1)/3\n",
    "    print(error)\n",
    "\n",
    "print(\"The calculated error is:\",error,\"%\")   "
   ]
  },
  {
   "cell_type": "code",
   "execution_count": null,
   "metadata": {
    "collapsed": true
   },
   "outputs": [],
   "source": []
  }
 ],
 "metadata": {
  "kernelspec": {
   "display_name": "Python 3",
   "language": "python",
   "name": "python3"
  },
  "language_info": {
   "codemirror_mode": {
    "name": "ipython",
    "version": 3
   },
   "file_extension": ".py",
   "mimetype": "text/x-python",
   "name": "python",
   "nbconvert_exporter": "python",
   "pygments_lexer": "ipython3",
   "version": "3.6.1"
  }
 },
 "nbformat": 4,
 "nbformat_minor": 2
}
