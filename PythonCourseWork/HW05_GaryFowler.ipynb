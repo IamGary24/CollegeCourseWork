{
 "cells": [
  {
   "cell_type": "markdown",
   "metadata": {},
   "source": [
    "# HW 05 \n",
    "# Gary Fowler\n",
    "\n",
    "\n",
    "## Exercise 6.1 \n",
    "\n",
    "### Circuit of resistors\n",
    "\n",
    "\n",
    "Considering a given circuit of resistors. All resistors have the same resistance R. The power rail at the top is at voltage V = 5V. What are the other 4 voltages?\n",
    "\n",
    "Write equations for each junction of the unkown voltages.\n",
    "Write a program to solve the four resulting equations using Gaussian elimination and find the four voltages."
   ]
  },
  {
   "cell_type": "code",
   "execution_count": 2,
   "metadata": {},
   "outputs": [
    {
     "name": "stdout",
     "output_type": "stream",
     "text": [
      "The four voltages are: \n",
      "v1 = 3.0 \n",
      "v2 = 1.66666666667 \n",
      "v3 = 3.33333333333 \n",
      "v4 = 2.0\n"
     ]
    }
   ],
   "source": [
    "## @author: Gary Fowler\n",
    "\n",
    "\"\"\"\n",
    "@A: the matrix holding our 4 equations and 4 unknowns\n",
    "@v: the solution vector (our total voltages at each point)\n",
    "@N: used for our for loop, holds vector size\n",
    "\n",
    "in this program we will calculate four voltages given equal resistances\n",
    "\n",
    "\"\"\"\n",
    "import numpy as np\n",
    "\n",
    "\"\"\"\n",
    "the 4 equations\n",
    "4v1 - v2 - v3 - v4 = 5\n",
    "-v1 + 3v2 + 0v3 - v4 = 0\n",
    "-v1 + 0v2 + 3v3 - v4 = 5\n",
    "-v1 - v2 - v3 + 4v4 = 0\n",
    "this creates a matrix\n",
    "\"\"\"\n",
    "A = np.array([[4,-1,-1,-1],\n",
    "            [-1,3,0,-1],\n",
    "            [-1,0,3,-1],\n",
    "            [-1,-1,-1,4]],float)\n",
    "v = np.array([5,0,5,0],float)\n",
    "N = len(v)\n",
    "\n",
    "# the Gauss Elim\n",
    "for m in range(N):\n",
    "    #divide the diagonal element\n",
    "    div = A[m,m]\n",
    "    A[m,:] /= div\n",
    "    v[m] /= div\n",
    "    \n",
    "    #subtract from lower rows\n",
    "    for i in range(m+1,N):\n",
    "        mult = A[i,m]\n",
    "        A[i,:] -= mult*A[m,:]\n",
    "        v[i] -= mult*v[m]\n",
    "        \n",
    "#backsubstitution\n",
    "x = np.empty(N,float)\n",
    "for m in range(N-1,-1,-1):\n",
    "    x[m] = v[m]\n",
    "    for i in range(m+1,N):\n",
    "        x[m] -= A[m,i]*x[i]\n",
    "        \n",
    "print(\"The four voltages are: \\nv1 =\",x[0],\"\\nv2 =\",x[1],\"\\nv3 =\",x[2],\"\\nv4 =\",x[3])\n"
   ]
  },
  {
   "cell_type": "markdown",
   "metadata": {},
   "source": [
    "## Exercise 6.4 \n",
    "\n",
    "### Testing numpy.linalg\n",
    "\n",
    "\n",
    "Write a program to solve the resistor network problem of exercise 6.1 using numpy.linalg"
   ]
  },
  {
   "cell_type": "code",
   "execution_count": 3,
   "metadata": {},
   "outputs": [
    {
     "name": "stdout",
     "output_type": "stream",
     "text": [
      "The four voltages are: \n",
      "v1 = 3.0 \n",
      "v2 = 1.66666666667 \n",
      "v3 = 3.33333333333 \n",
      "v4 = 2.0\n",
      "\n",
      "The voltages are equivalent to the solution derived using Gaussian Elimination\n"
     ]
    }
   ],
   "source": [
    "## @author: Gary Fowler\n",
    "\n",
    "\"\"\"\n",
    "@A: the matrix holding our 4 equations and 4 unknowns\n",
    "@v: the solution vector (our total voltages at each point)\n",
    "@N: used for our for loop, holds vector size\n",
    "\n",
    "in this program we will calculate four voltages given equal resistances, in this one we will be using np.linalg.solve\n",
    "\n",
    "\"\"\"\n",
    "import numpy as np\n",
    "\n",
    "\"\"\"\n",
    "the 4 equations\n",
    "4v1 - v2 - v3 - v4 = 5\n",
    "-v1 + 3v2 + 0v3 - v4 = 0\n",
    "-v1 + 0v2 + 3v3 - v4 = 5\n",
    "-v1 - v2 - v3 + 4v4 = 0\n",
    "this creates a matrix\n",
    "\"\"\"\n",
    "A = np.array([[4,-1,-1,-1],\n",
    "            [-1,3,0,-1],\n",
    "            [-1,0,3,-1],\n",
    "            [-1,-1,-1,4]],float)\n",
    "v = np.array([5,0,5,0],float)\n",
    "\n",
    "x = np.linalg.solve(A,v)\n",
    "        \n",
    "print(\"The four voltages are: \\nv1 =\",x[0],\"\\nv2 =\",x[1],\"\\nv3 =\",x[2],\"\\nv4 =\",x[3])\n",
    "print(\"\\nThe voltages are equivalent to the solution derived using Gaussian Elimination\")"
   ]
  },
  {
   "cell_type": "markdown",
   "metadata": {},
   "source": [
    "## Exercise 6.10 \n",
    "\n",
    "### Testing numpy.linalg\n",
    "\n",
    "\n",
    "Consider the equation x = 1 - e^-cx, where c is known and x is unknown.\n",
    "Write a program to solve this equation for x using the relaxation method for the case c = 2. Calculate your solution to an accuracy of 1e^-6\n",
    "Modify the program to calculate the solution for values of c from 0 to 3 in steps of .01 and make a plot of x as a function of c"
   ]
  },
  {
   "cell_type": "code",
   "execution_count": 21,
   "metadata": {},
   "outputs": [
    {
     "data": {
      "image/png": "[encoded data removed]",
      "text/plain": [
       "<matplotlib.figure.Figure at 0x18e54feaf98>"
      ]
     },
     "metadata": {},
     "output_type": "display_data"
    }
   ],
   "source": [
    "## @author: Gary Fowler\n",
    "\n",
    "\"\"\"\n",
    "@accuracy: this is how accuract we want our solution to be\n",
    "@cmax: the maximum c value that we are solving x for\n",
    "@points: how many times we will loop\n",
    "@y: an array to hold all of our solution points at the given c value\n",
    "@carray: this holds all of our cvalues\n",
    "@error: the error value that manages our while loop\n",
    "\n",
    "in this program we will converge the equation 1-e^-cx where c = 2\n",
    "\n",
    "\"\"\"\n",
    "import numpy as np\n",
    "import matplotlib.pyplot as plt\n",
    "\n",
    "#constants\n",
    "accuracy = 1e-6\n",
    "cmax = 3.0\n",
    "points = 10000\n",
    "\n",
    "y = []\n",
    "carray = np.linspace(0.01,cmax,points)\n",
    "\n",
    "for c in carray:\n",
    "    x1 = 1.0\n",
    "    error = 1.0\n",
    "\n",
    "    while error>accuracy:\n",
    "        x1,x2 = 1-np.exp(-c*x1),x1\n",
    "        error = abs((x1-x2)/(1-(1/(1-np.exp(-c*x2)))))\n",
    "    y.append(x1)\n",
    "\n",
    "plt.plot(carray,y)\n",
    "plt.show()"
   ]
  },
  {
   "cell_type": "markdown",
   "metadata": {},
   "source": [
    "## Exercise 6.12 \n",
    "\n",
    "### Glycolysis solutions\n",
    "\n",
    "\n",
    "The process of glycolysis can be modeled by equations:\n",
    "dx/dt = -x + ay + x^2 * y\n",
    "dy/dt = b - ay - x^2 * y\n",
    "x and y represent concentrations of two chemicals, ADP and F6P, and a and b are positive constants.\n",
    "\n",
    "Write a program to solve the solutions to these equations for the stationary point using the relaxation method with a = 1 and b = 2. The method should fail to converge.\n",
    "Find a new way to rearrange the equations such that when applying the relaxation method the equation converges and gives a solution.\n",
    "\n",
    "The equation solutions mentioned are:\n",
    "x = y(a+x^2) and y = b/(a+x^2)"
   ]
  },
  {
   "cell_type": "code",
   "execution_count": 4,
   "metadata": {},
   "outputs": [
    {
     "name": "stdout",
     "output_type": "stream",
     "text": [
      "2.0 0.4\n",
      "2.0 0.4\n",
      "2.0 0.4\n",
      "2.0 0.4\n",
      "2.0 0.4\n",
      "2.0 0.4\n",
      "2.0 0.4\n",
      "2.0 0.4\n",
      "2.0 0.4\n",
      "2.0 0.4\n",
      "\n",
      "\n",
      "0.5 1.6\n",
      "0.449438202247191 1.6639008507509716\n",
      "0.44152094791262786 1.6737231567968947\n",
      "0.44029713301057416 1.675236106151797\n",
      "0.4401085170812979 1.6754691532256303\n",
      "0.44007946122415675 1.6755050504861022\n",
      "0.440074985566762 1.675510579894173\n",
      "0.44007429616083227 1.675511431612373\n",
      "0.4400741899686783 1.675511562806141\n",
      "0.44007417361144946 1.6755115830144736\n"
     ]
    }
   ],
   "source": [
    "## @author: Gary Fowler\n",
    "\n",
    "\"\"\"\n",
    "@a,b: constants in the equation\n",
    "@x,y: the equations running through the relaxation method\n",
    "\n",
    "in this program we are given two equations that will not converge, we will prove their failure to converge and then rearrange\n",
    "them so that they will then converge\n",
    "\n",
    "the solution to these are:\n",
    "x = b\n",
    "y = b / (a+x**2)\n",
    "\n",
    "\"\"\"\n",
    "import numpy as np\n",
    "\n",
    "#constants\n",
    "a = 1.0\n",
    "b = 2.0\n",
    "\n",
    "\"\"\"\n",
    "#equations\n",
    "x = y(a+x**2)\n",
    "y = b / (a + x**2)\n",
    "\"\"\"\n",
    "x = 1.0\n",
    "y = 1.0\n",
    "for k in range(10):\n",
    "    x = y*(a+x**2)\n",
    "    y = b / (a+x**2)\n",
    "    print(x,y)\n",
    "    \n",
    "#part 2 of the problem\n",
    "\"\"\"\n",
    "here we will find the inverse of the x = equation\n",
    "x = y / (a+y**2)\n",
    "we do this because it is often that the inverse of the equation will converge to the solution if the original does not\n",
    "\"\"\"\n",
    "print(\"\\n\")\n",
    "x = 1.0\n",
    "y = 1.0\n",
    "for k in range(10):\n",
    "    x = y / (a+y**2)\n",
    "    y = b / (a+x**2)\n",
    "    print(x,y)\n"
   ]
  },
  {
   "cell_type": "markdown",
   "metadata": {},
   "source": [
    "## Exercise 6.13ab\n",
    "\n",
    "### Wien's displacement constant\n",
    "\n",
    "a)\n",
    "5e-x + x - 5 = 0\n",
    "b) Write a progarm to solve this equation to an accuracy of epsilon = 1e-6 using the binary search method."
   ]
  },
  {
   "cell_type": "code",
   "execution_count": 18,
   "metadata": {},
   "outputs": [
    {
     "name": "stdout",
     "output_type": "stream",
     "text": [
      "The solution to the equation is 3.814697265625e-07\n",
      "Thus we find Wien's constant to be: 37760.13356521739\n"
     ]
    }
   ],
   "source": [
    "## @author: Gary Fowler\n",
    "\n",
    "\"\"\"\n",
    "in this program we will be using the binary search method to find a solution to the equation:\n",
    "5e-x + x - 5 = 0\n",
    "and then determine wiens constant with this solution\n",
    "\"\"\"\n",
    "import numpy as np\n",
    "\n",
    "#constants\n",
    "kb = 1.38e-23 #Boltzmanns constants\n",
    "c = 3.0e8     #speed of light\n",
    "h = 6.626e-34 #Plancks constant\n",
    "\n",
    "def f(x):\n",
    "    return 5*np.exp(-x) + x - 5\n",
    "\n",
    "accuracy = 1e-6\n",
    "#given x1,x2 make sure that f(x1) and f(x2) have opposing signs.\n",
    "x1,x2 = .1,-.1\n",
    "\n",
    "if f(x1) * f(x2) > 0:\n",
    "    print(\"bisection is not possible, the signs are the same\")\n",
    "else:\n",
    "    error = 1.0\n",
    "    while(error>accuracy):\n",
    "        xprime = (x1 + x2) * 0.5\n",
    "        if f(x1) * f(xprime) > 0:\n",
    "            x1 = xprime\n",
    "        else:\n",
    "            x2 = xprime\n",
    "        error = abs(x1-x2)\n",
    "    solution = (x1+x2) * 0.5\n",
    "    print(\"The solution to the equation is\",solution)\n",
    "    print(\"Thus we find Wien's constant to be:\",(h*c)/(kb*solution))\n",
    "    \n"
   ]
  },
  {
   "cell_type": "markdown",
   "metadata": {},
   "source": [
    "## Exercise 6.15\n",
    "\n",
    "### Roots of a polynomial\n",
    "\n",
    "Consider the polynomial:\n",
    "P(x) = 924x^6 - 2772x^5 + 3150x^4 - 1680x^3 + 420x^2 - 42x + 1\n",
    "\n",
    "Make a plot of the polynomial\n",
    "Then solve the six roots to an accuracy of 1e-10 using Newton's method"
   ]
  },
  {
   "cell_type": "code",
   "execution_count": 31,
   "metadata": {},
   "outputs": [
    {
     "data": {
      "image/png": "[encoded data removed]",
      "text/plain": [
       "<matplotlib.figure.Figure at 0x2c2ad0ac940>"
      ]
     },
     "metadata": {},
     "output_type": "display_data"
    },
    {
     "ename": "OverflowError",
     "evalue": "(34, 'Result too large')",
     "output_type": "error",
     "traceback": [
      "\u001b[1;31m---------------------------------------------------------------------------\u001b[0m",
      "\u001b[1;31mOverflowError\u001b[0m                             Traceback (most recent call last)",
      "\u001b[1;32m<ipython-input-31-6b1b4085aae9>\u001b[0m in \u001b[0;36m<module>\u001b[1;34m()\u001b[0m\n\u001b[0;32m     41\u001b[0m \u001b[0mdelta\u001b[0m \u001b[1;33m=\u001b[0m \u001b[1;36m1.0\u001b[0m\u001b[1;33m\u001b[0m\u001b[0m\n\u001b[0;32m     42\u001b[0m \u001b[1;32mwhile\u001b[0m \u001b[0mabs\u001b[0m\u001b[1;33m(\u001b[0m\u001b[0mdelta\u001b[0m\u001b[1;33m)\u001b[0m\u001b[1;33m>\u001b[0m\u001b[0maccuracy\u001b[0m\u001b[1;33m:\u001b[0m\u001b[1;33m\u001b[0m\u001b[0m\n\u001b[1;32m---> 43\u001b[1;33m     \u001b[0mdelta\u001b[0m \u001b[1;33m=\u001b[0m \u001b[0mdf\u001b[0m\u001b[1;33m(\u001b[0m\u001b[0mx\u001b[0m\u001b[1;33m)\u001b[0m\u001b[1;33m\u001b[0m\u001b[0m\n\u001b[0m\u001b[0;32m     44\u001b[0m     \u001b[0mx\u001b[0m \u001b[1;33m-=\u001b[0m \u001b[0merror\u001b[0m\u001b[1;33m\u001b[0m\u001b[0m\n\u001b[0;32m     45\u001b[0m \u001b[1;33m\u001b[0m\u001b[0m\n",
      "\u001b[1;32m<ipython-input-31-6b1b4085aae9>\u001b[0m in \u001b[0;36mdf\u001b[1;34m(x)\u001b[0m\n\u001b[0;32m     19\u001b[0m \u001b[1;33m\u001b[0m\u001b[0m\n\u001b[0;32m     20\u001b[0m \u001b[1;32mdef\u001b[0m \u001b[0mdf\u001b[0m\u001b[1;33m(\u001b[0m\u001b[0mx\u001b[0m\u001b[1;33m)\u001b[0m\u001b[1;33m:\u001b[0m\u001b[1;33m\u001b[0m\u001b[0m\n\u001b[1;32m---> 21\u001b[1;33m     \u001b[1;32mreturn\u001b[0m \u001b[1;36m5544\u001b[0m\u001b[1;33m*\u001b[0m\u001b[0mx\u001b[0m\u001b[1;33m**\u001b[0m\u001b[1;36m5\u001b[0m \u001b[1;33m-\u001b[0m \u001b[1;36m13860\u001b[0m\u001b[1;33m*\u001b[0m\u001b[0mx\u001b[0m\u001b[1;33m**\u001b[0m\u001b[1;36m4\u001b[0m \u001b[1;33m+\u001b[0m \u001b[1;36m12600\u001b[0m\u001b[1;33m*\u001b[0m\u001b[0mx\u001b[0m\u001b[1;33m**\u001b[0m\u001b[1;36m3\u001b[0m \u001b[1;33m-\u001b[0m \u001b[1;36m5040\u001b[0m\u001b[1;33m*\u001b[0m\u001b[0mx\u001b[0m\u001b[1;33m**\u001b[0m\u001b[1;36m2\u001b[0m \u001b[1;33m+\u001b[0m \u001b[1;36m840\u001b[0m\u001b[1;33m*\u001b[0m\u001b[0mx\u001b[0m \u001b[1;33m-\u001b[0m \u001b[1;36m42\u001b[0m\u001b[1;33m\u001b[0m\u001b[0m\n\u001b[0m\u001b[0;32m     22\u001b[0m \u001b[1;33m\u001b[0m\u001b[0m\n\u001b[0;32m     23\u001b[0m \u001b[1;31m#constants\u001b[0m\u001b[1;33m\u001b[0m\u001b[1;33m\u001b[0m\u001b[0m\n",
      "\u001b[1;31mOverflowError\u001b[0m: (34, 'Result too large')"
     ]
    }
   ],
   "source": [
    "## @author: Gary Fowler\n",
    "\n",
    "\"\"\"\n",
    "@accuracy: this is how accuract we want our solution to be\n",
    "@cmax: the maximum c value that we are solving x for\n",
    "@points: how many times we will loop\n",
    "@y: an array to hold all of our solution points at the given c value\n",
    "@carray: this holds all of our cvalues\n",
    "@error: the error value that manages our while loop\n",
    "\n",
    "in this program we will converge the equation 1-e^-cx where c = 2\n",
    "\n",
    "\"\"\"\n",
    "import numpy as np\n",
    "import matplotlib.pyplot as plt\n",
    "\n",
    "def f(x):\n",
    "    return 924*x**6 - 2772*x**5 + 3150*x**4 - 1680*x**3 + 420*x**2 - 42*x + 1\n",
    "\n",
    "def df(x):\n",
    "    return 5544*x**5 - 13860*x**4 + 12600*x**3 - 5040*x**2 + 840*x - 42\n",
    "\n",
    "#constants\n",
    "accuracy = 1e-10\n",
    "points = 1000\n",
    "\n",
    "y = []\n",
    "xpoints = np.linspace(0,1,points)\n",
    "\n",
    "for i in xpoints:\n",
    "    y1 = f(i)\n",
    "    y.append(y1)\n",
    "\n",
    "fig, ax = plt.subplots()      \n",
    "ax.plot(xpoints,y)\n",
    "ax.axhline(y=0, color='k')\n",
    "plt.show()\n",
    "\n",
    "\n",
    "x = 0.0\n",
    "delta = 1.0\n",
    "while abs(delta)>accuracy:\n",
    "    delta = df(x)\n",
    "    x -= error\n",
    "\n",
    "print(x)"
   ]
  },
  {
   "cell_type": "code",
   "execution_count": null,
   "metadata": {
    "collapsed": true
   },
   "outputs": [],
   "source": []
  }
 ],
 "metadata": {
  "kernelspec": {
   "display_name": "Python 3",
   "language": "python",
   "name": "python3"
  },
  "language_info": {
   "codemirror_mode": {
    "name": "ipython",
    "version": 3
   },
   "file_extension": ".py",
   "mimetype": "text/x-python",
   "name": "python",
   "nbconvert_exporter": "python",
   "pygments_lexer": "ipython3",
   "version": "3.6.1"
  }
 },
 "nbformat": 4,
 "nbformat_minor": 2
}
