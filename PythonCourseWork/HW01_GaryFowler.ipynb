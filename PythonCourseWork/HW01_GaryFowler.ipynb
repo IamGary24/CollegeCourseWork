{
 "cells": [
  {
   "cell_type": "markdown",
   "metadata": {},
   "source": [
    "# HW 01 \n",
    "# Gary Fowler\n",
    "\n",
    "\n",
    "## Exercise 2.1 \n",
    "\n",
    "### Another ball dropped from a tower\n",
    "\n",
    "\n",
    "A ball is dropped from a tower of height h, with initial velocity zero. Write a program that asks for a height and then\n",
    "calculates the time it takes for the ball to hit the ground, ignoring air resistance."
   ]
  },
  {
   "cell_type": "code",
   "execution_count": 1,
   "metadata": {},
   "outputs": [
    {
     "name": "stdout",
     "output_type": "stream",
     "text": [
      "Enter the tower height: 100\n",
      "The ball will hit the ground after 4.515 seconds.\n"
     ]
    }
   ],
   "source": [
    "## @author: Gary Fowler\n",
    "\n",
    "\"\"\"\n",
    "@h: height\n",
    "@a: acceleration due to gravity\n",
    "@formula: this is the formula s = .5*a*t^2 solved for t, position is replaced \n",
    "    with tower height\n",
    "\n",
    "in this program the variable needed is time, height is our position\n",
    "\n",
    "\"\"\"\n",
    "import numpy as np\n",
    "\n",
    "h = float(input(\"Enter the tower height: \"))\n",
    "a = 9.81 \n",
    "\n",
    "#this formula returns seconds, it is derived from position = .5*a*t^2\n",
    "formula = np.sqrt(2*h/a)\n",
    "\n",
    "#printing out the result and rounding to 3 digits\n",
    "print(\"The ball will hit the ground after {number:.{digits}f} seconds.\".format(number=formula, digits=3))\n"
   ]
  },
  {
   "cell_type": "markdown",
   "metadata": {},
   "source": [
    "## Exercise 2.3\n",
    "\n",
    "### Cartesian coordinates to polar coordinates\n",
    "\n",
    "\n",
    "Prompt user for Cartesian coordinates (x,y) of a point in 2d space, calculate and print the polar coordinates, with \n",
    "the angle theta in degrees."
   ]
  },
  {
   "cell_type": "code",
   "execution_count": 2,
   "metadata": {},
   "outputs": [
    {
     "name": "stdout",
     "output_type": "stream",
     "text": [
      "Enter x of the Cartesian coordinates (x,y) for a point in 2d space: -1\n",
      "Enter y of the Cartesian coordinates (x,y) for a point in 2d space: -1\n",
      "r = 1.414 \n",
      "theta = -135.0 degrees\n"
     ]
    }
   ],
   "source": [
    "## @author: Gary Fowler\n",
    "\n",
    "\"\"\"\n",
    "@x: the x term of 2d point\n",
    "@y: the y term of 2d point\n",
    "@r: the radius in polar coordinates\n",
    "@thetaRadians: this is the solution to atan2(x,y) which is in radians\n",
    "@thetaDegrees: this is the conversion of radians to degrees\n",
    "\n",
    "in this program we are converting x,y to r,theta\n",
    "\n",
    "\"\"\"\n",
    "import numpy as np\n",
    "import math as m\n",
    "\n",
    "x = int(input(\"Enter x of the Cartesian coordinates (x,y) for a point in 2d space: \"))\n",
    "y = int(input(\"Enter y of the Cartesian coordinates (x,y) for a point in 2d space: \"))\n",
    "\n",
    "## r is sqrt(x^2 + y^2)\n",
    "r = np.sqrt(x**2 + y**2)\n",
    "## theta is found in radians, must be converted to degrees using 180/pi\n",
    "thetaRadians = m.atan2(x, y)\n",
    "thetaDegrees = thetaRadians * 180 / np.pi\n",
    "\n",
    "## again we are formatting our output to 2 decimals\n",
    "print(\"r = {number:.{digits}f} \".format(number=r, digits=3))\n",
    "print(\"theta =\", thetaDegrees,\"degrees\")"
   ]
  },
  {
   "cell_type": "markdown",
   "metadata": {},
   "source": [
    "## Exercise 2.5\n",
    "\n",
    "### Quantum potential step\n",
    "\n",
    "\n",
    "A particle of mass m that encounters a one-dimensional potential step. The particle encounters a sudden jump in potential energy of height V at position x = 0. It can either a) pass the step or b) be reflected.\n",
    "The particle we are interested in has mass m = 9.11 x 10^-31kg and energy 10 eV."
   ]
  },
  {
   "cell_type": "code",
   "execution_count": 3,
   "metadata": {},
   "outputs": [
    {
     "name": "stdout",
     "output_type": "stream",
     "text": [
      "If the particle is Transmitted:  0.730126136388\n",
      "Or if the particle is Reflected:  0.269873863612\n"
     ]
    }
   ],
   "source": [
    "## @author: Gary Fowler\n",
    "\n",
    "\"\"\"\n",
    "@m: the mass of our particle\n",
    "@E: the Energy of our particle\n",
    "@h: the reduced Planck's constant\n",
    "@V: the potential energy step height\n",
    "@k1: the initial wavevector\n",
    "@k2: smaller second wavevector after the potential energy step\n",
    "@transmission: formula for if the particle passes the step\n",
    "@relfection: formula for if the particle is reflected\n",
    "\n",
    "in this program we will print out the transmission and reflection probabilities using given formulas and values\n",
    "\n",
    "\"\"\"\n",
    "import numpy as np\n",
    "\n",
    "m = 9.11e-31\n",
    "E = 10 ##units are eV\n",
    "V = 9 ##the height of the potential step\n",
    "h = (4.1356e-15) / 2 * np.pi ##the reduce Planck's constant\n",
    "\n",
    "k1 = np.sqrt(2*m*E) / h\n",
    "k2 = np.sqrt(2*m*(E - V)) / h\n",
    "\n",
    "transmission = (4*k1*k2) / ((k1 + k2)**2)\n",
    "reflection = ((k1 - k2) / (k1 + k2))**2\n",
    "\n",
    "##we are not going to be formatting this output as the precision may be necessary\n",
    "##since I do not know quantum physics I am unsure if it is necessary or not\n",
    "print(\"If the particle is Transmitted: \",transmission)\n",
    "print(\"Or if the particle is Reflected: \",reflection)"
   ]
  },
  {
   "cell_type": "markdown",
   "metadata": {},
   "source": [
    "## Exercise 2.6\n",
    "\n",
    "### Planetary orbits\n",
    "\n",
    "\n",
    "In general orbits are elliptical. If given the distance L1 of closest approach that a planet makes to the Sun, also called is perihelion, and its linear velocity v1 at perihelion, then any other property of orbit can be calculated from these two:\n",
    "\n",
    "a) Kepler's second law, L2 and v2 at the most distant point, aphelion, satsify L2v2 = L1v1. The total energy is E = 1/2mv^2 - G(mM / r). Energy must be conserved so show that v2 is the smaller root of:\n",
    "v2^2 - (2GM / v1L1)v2 - [v1^2 - (2GM /L1)] = 0. Then once we have v2 we can calculate L2.\n",
    "\n",
    "b) Given values v1, L1, and L2, other parameters of the orbit are given by simple formulas from Kepler's laws:\n",
    "semi-major axis: a = 1/2(L1 + L2)\n",
    "semi-minor axis: b = sqrt(L1L2)\n",
    "orbital period: T = 2piab / L1v1\n",
    "orbital eccentricity: e = (L2 - L1 / L2 + L1)\n",
    "create the program to ask the user for distance to the Sun and veloctiy at perihelion, then calculate and print L2, v2, T, and e\n",
    "\n",
    "c) Test the program by having it calculate the properties of Earth and Halley's comet. Earth orbital period is 1, Halley's comit is 76 years."
   ]
  },
  {
   "cell_type": "code",
   "execution_count": 19,
   "metadata": {},
   "outputs": [
    {
     "name": "stdout",
     "output_type": "stream",
     "text": [
      "Enter the perihelion: 8.7830e10\n",
      "Enter the veloctiy at the perihelion: 5.4529e4\n",
      "The aphelion velocity: 680.935880849\n",
      "Thus the length at the aphelion is: 7.03338185679e+12\n",
      "Orbital period: 116.420724\n",
      "Orbital eccentricity: 0.975332850148\n"
     ]
    }
   ],
   "source": [
    "## @author: Gary Fowler\n",
    "\n",
    "\"\"\"\n",
    "block a)\n",
    "@m: the mass of the planet\n",
    "@E: the total Energy, kinetic plus gravitational, of a planet distance r from Sun\n",
    "@M: the mass of the Sun\n",
    "@L1: the length at the perihelion\n",
    "@L2: the length at the aphelion\n",
    "@v1: the velocity at perihelion\n",
    "@v2: the velocity at aphelion\n",
    "@a,b,c: used for the quadratic formula\n",
    "@perihelionVelocity: this verifies v1, and does not override the given v1\n",
    "@aphelionVelocity: this is solved from v1, and be reassigned v2 after output\n",
    "\n",
    "if a variable is used again from a, we will not be redefining it in b or c\n",
    "\n",
    "\n",
    "in this first block of the program we will use Kepler's second law and a given L1 and v1 at perihelion to determine L2 and v2\n",
    "as well as verify that v2 is the smaller root in order to conserve energy.\n",
    "\n",
    "\"\"\"\n",
    "\n",
    "import numpy as np\n",
    "\n",
    "L1 = float(input(\"Enter the perihelion: \"))\n",
    "v1 = float(input(\"Enter the veloctiy at the perihelion: \"))\n",
    "\n",
    "##Earth's properties\n",
    "#L1 = 1.4710e11 \n",
    "#v1 = 3.0287e4\n",
    "\n",
    "##Halley's comet properties\n",
    "#L1 = 8.7830e10\n",
    "#v1 = 5.4529e4\n",
    "\n",
    "##Newton's gravitational constant m^3 / kg s^2\n",
    "G = 6.6738e-11\n",
    "##Sun's mass in kg\n",
    "M = 1.981e30\n",
    "\n",
    "a = 1\n",
    "b = -(2*G*M) / (v1*L1)\n",
    "c = -(v1**2 - (2*G*M) / L1)\n",
    "\n",
    "perihelionVelocity = (-b + np.sqrt(b**2 - 4*a*c))/ 2*a\n",
    "##smaller than perihelion\n",
    "aphelionVelocity = (-b - np.sqrt(b**2 - 4*a*c))/ 2*a\n",
    "\n",
    "#print(\"The perihelion velocity:\",perihelionVelocity)\n",
    "print(\"The aphelion velocity:\",aphelionVelocity)\n",
    "\n",
    "##for ease of equations we will re-assign v2 as the aphelion\n",
    "v2 = aphelionVelocity\n",
    "\n",
    "L2 = (L1*v1) / v2\n",
    "print(\"Thus the length at the aphelion is:\",L2)\n",
    "\n",
    "\"\"\"\n",
    "block b)\n",
    "if a variable is used again from a, we will not be redefining it in b or c\n",
    "@semi_majorAxis: the formula to find the semi-major axis\n",
    "@semi_minorAxis: the formula to find the semi_minor axis\n",
    "@orbitalPeriod: the formula to find the orbital period\n",
    "\n",
    "in this block we now have v1, L1, and L2, and will be finding other parameters of orbit\n",
    "\n",
    "\"\"\"\n",
    "semi_majorAxis = .5 * (L1 + L2)\n",
    "#print(\"Semi-major axis:\",semi_majorAxis)\n",
    "\n",
    "semi_minorAxis = np.sqrt(L1 * L2)\n",
    "#print(\"Semi-minor axis:\",semi_minorAxis)\n",
    "\n",
    "orbitalPeriod = (2 * np.pi * semi_majorAxis * semi_minorAxis) / (L1 * v1)\n",
    "##seconds per day = 86400, convert seconds to years\n",
    "convertYears = orbitalPeriod / (86400 * 365)\n",
    "print(\"Orbital period:\",convertYears)\n",
    "\n",
    "orbitalEcc = (L2 - L1) / (L2 + L1)\n",
    "print(\"Orbital eccentricity:\",orbitalEcc)\n",
    "\n",
    "\n"
   ]
  },
  {
   "cell_type": "markdown",
   "metadata": {},
   "source": [
    "In the above example when inputting Earth's properties (L1 = 1.4710e11 and v1 = 3.0287e4) we get: \n",
    "Aphelion velocity: 29062.73\n",
    "Aphelion length: 1.5329e11\n",
    "Period: 1.009\n",
    "Eccentricity: 0.0206\n",
    "\n",
    "When inputting Halley's comet we receive\n",
    "Aphelion veloctiy: 680.936\n",
    "Aphelion length: 7.033e12\n",
    "Period: 116 years\n",
    "Eccentricity: 0.975\n"
   ]
  },
  {
   "cell_type": "markdown",
   "metadata": {},
   "source": [
    "## Exercise 2.13\n",
    "\n",
    "### Recursion\n",
    "\n",
    "\n",
    "The Catalan numbers definition can be rewritten as Cn = {1 if n = 0, (4n-2)/(n+1) * Cn-1 if n > 0}\n",
    "a)Use this to calculate and print C100\n",
    "b)Euclid showed that the greatest common divisor g(m,n) of two nonnegative integers satisfies \n",
    "g(m,n) = {m if n = 0, g(n,m mod n) if n > 0}\n",
    "write a funtion that employs recursion to calculate the gcd of 108 and 192"
   ]
  },
  {
   "cell_type": "code",
   "execution_count": 5,
   "metadata": {},
   "outputs": [
    {
     "name": "stdout",
     "output_type": "stream",
     "text": [
      "The 100 th catalan number is: 896519947090131496687170070074100632420837521538745909320\n",
      "The greatest common divisor between 64 and 729 is: 1\n"
     ]
    }
   ],
   "source": [
    "## @author: Gary Fowler\n",
    "\n",
    "\"\"\"\n",
    "block a)\n",
    "@x: the xth catalan number we are looking for\n",
    "@n: the parameter for the function catalans\n",
    "\n",
    "@catalans(n): a function that takes one parameter,n, and returns the nth catalan number\n",
    "\n",
    "this block will use recursion to print out the 100th Catalan number\n",
    "\n",
    "\"\"\"\n",
    "x = 100\n",
    "\n",
    "def catalans(n): \n",
    "    if n==0:\n",
    "        return 1\n",
    "    else:\n",
    "        return (4*n-2)*catalans(n-1) // (n+1) \n",
    "    \n",
    "print(\"The\",x,\"th catalan number is:\",catalans(x))\n",
    "\n",
    "\"\"\"\n",
    "block b)\n",
    "@y, z: the numbers we want to find the gcd of\n",
    "@m, n: the parameters for the function gcd(m,n)\n",
    "\n",
    "@gcd(m,n): a function that takes two parameters and returns the gcd of the two\n",
    "\n",
    "this block will use recursion to print out the gcd of 108 and 192\n",
    "\n",
    "\"\"\"\n",
    "y = 64\n",
    "z = 729\n",
    "\n",
    "def gcd(m,n):\n",
    "    if n==0:\n",
    "        return m\n",
    "    else:\n",
    "        return gcd(n,m % n)\n",
    "\n",
    "print(\"The greatest common divisor between\",y,\"and\",z,\"is:\",gcd(y,z))"
   ]
  },
  {
   "cell_type": "code",
   "execution_count": null,
   "metadata": {
    "collapsed": true
   },
   "outputs": [],
   "source": []
  }
 ],
 "metadata": {
  "kernelspec": {
   "display_name": "Python 3",
   "language": "python",
   "name": "python3"
  },
  "language_info": {
   "codemirror_mode": {
    "name": "ipython",
    "version": 3
   },
   "file_extension": ".py",
   "mimetype": "text/x-python",
   "name": "python",
   "nbconvert_exporter": "python",
   "pygments_lexer": "ipython3",
   "version": "3.6.1"
  }
 },
 "nbformat": 4,
 "nbformat_minor": 2
}
