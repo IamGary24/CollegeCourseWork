{
 "cells": [
  {
   "cell_type": "markdown",
   "metadata": {},
   "source": [
    "# HW 03 \n",
    "# Gary Fowler\n",
    "\n",
    "\n",
    "## Exercise 4.1 \n",
    "\n",
    "### Testing precision with factorials\n",
    "\n",
    "\n",
    "Write a program to calculate and print the factorial of a number entered by the user. Use the program to calculate the factorial of 200 using integers. Then calculate the factorial of 200 using floats. What is the difference?"
   ]
  },
  {
   "cell_type": "code",
   "execution_count": 3,
   "metadata": {},
   "outputs": [
    {
     "name": "stdout",
     "output_type": "stream",
     "text": [
      "Enter a factorial to be calculated: 200\n",
      "The factorial of 200 as an integer is 788657867364790503552363213932185062295135977687173263294742533244359449963403342920304284011984623904177212138919638830257642790242637105061926624952829931113462857270763317237396988943922445621451664240254033291864131227428294853277524242407573903240321257405579568660226031904170324062351700858796178922222789623703897374720000000000000000000000000000000000000000000000000\n",
      "The factorial of 200 as a float is inf\n"
     ]
    }
   ],
   "source": [
    "## @author: Gary Fowler\n",
    "\n",
    "\"\"\"\n",
    "@f: the start integer for the factorial\n",
    "@n: the factorial to calculated given by the user\n",
    "@k: used in our for loop\n",
    "@g: used for factorial calculation with a float\n",
    "\n",
    "in this program we will calculate a given factorial in integer form then float form\n",
    "\n",
    "\"\"\"\n",
    "import numpy as np\n",
    "\n",
    "f = 1\n",
    "n = int(input(\"Enter a factorial to be calculated: \"))\n",
    "\n",
    "for k in range(1,n+1):\n",
    "    f *= k\n",
    "\n",
    "print(\"The factorial of\",n,\"as an integer is\",f)\n",
    "\n",
    "g = 1.0\n",
    "for k in range(1,n+1):\n",
    "    g *= k   \n",
    "    \n",
    "print(\"The factorial of\",n,\"as a float is\",g)"
   ]
  },
  {
   "cell_type": "markdown",
   "metadata": {},
   "source": [
    "The factorial of 200 as a float becomes infinity. Meaning that the integer value was given more space in memory, while the float overflowed."
   ]
  },
  {
   "cell_type": "markdown",
   "metadata": {},
   "source": [
    "## Exercise 4.2 \n",
    "\n",
    "### Quadratic equations\n",
    "\n",
    "\n",
    "Consider a quadratic equation: ax^2 + bx + c = 0 that has real solutions.\n",
    "a)Write a program that takes as input the three numbers, a, b, and c, and prints out the two solutions using the standard quadratic formula. Compute the solutions of .001x^2 + 1000x + .001 = 0\n",
    "b)Multiplying the top and bottom of the solution by -b +- sqrt(b^2 - 4ac) we can write the solutions different. Add further lines to the program to print the values in addition to the others. What do you see? How do you explain it?\n",
    "c)Write a new program that calculates both roots of a quadratic equation accurately in all cases."
   ]
  },
  {
   "cell_type": "code",
   "execution_count": 9,
   "metadata": {},
   "outputs": [
    {
     "name": "stdout",
     "output_type": "stream",
     "text": [
      "Enter the x^2 term: .001\n",
      "Enter the x term: 1000\n",
      "Enter the constant term: .001\n",
      "The first solutions to the equation, 0.001 x^2  +  1000.0 x  +  0.001  is: -9.99989424599e-13 and -0.999999999999\n",
      "The second solutions to the equation, 0.001 x^2  +  1000.0 x  +  0.001  is: -1000010.57551 and -1e-06\n"
     ]
    }
   ],
   "source": [
    "## @author: Gary Fowler\n",
    "\n",
    "\"\"\"\n",
    "@a, b, c: the coeffecients of the formula: ax^2 + bx + c\n",
    "@formulaAdd, formulaSubtract: the quadratic formulas to be used\n",
    "@squareroot: makes our formula look cleaner, holds b^2 - 4ac\n",
    "\n",
    "in this program we will calculate the quadratic equation solutions\n",
    "\n",
    "\"\"\"\n",
    "import numpy as np\n",
    "\n",
    "a = float(input(\"Enter the x^2 term: \"))\n",
    "b = float(input(\"Enter the x term: \"))\n",
    "c = float(input(\"Enter the constant term: \"))\n",
    "\n",
    "squareroot = np.sqrt(b**2 - 4*a*c)\n",
    "\n",
    "#part a\n",
    "formulaAdd = (-b + squareroot) / 2*a\n",
    "formulaSubtract = (-b - squareroot) / 2*a\n",
    "\n",
    "print(\"The first solutions to the equation,\",a,\"x^2  + \",b,\"x  + \",c,\" is:\",formulaAdd,\"and\",formulaSubtract)\n",
    "\n",
    "#part b\n",
    "formula2Add = 2*c / (-b + squareroot)\n",
    "formula2Subtract = 2*c / (-b - squareroot)\n",
    "\n",
    "print(\"The second solutions to the equation,\",a,\"x^2  + \",b,\"x  + \",c,\" is:\",formula2Add,\"and\",formula2Subtract)\n"
   ]
  },
  {
   "cell_type": "markdown",
   "metadata": {},
   "source": [
    "The difference between the two solutions is staggering. The only thing I can think of is either an error in implementation (thought after careful consideration I do not see one) or has something to do with the rounding error and accuracy of python float numbers."
   ]
  },
  {
   "cell_type": "code",
   "execution_count": 8,
   "metadata": {},
   "outputs": [
    {
     "name": "stdout",
     "output_type": "stream",
     "text": [
      "Enter the x^2 term: .001\n",
      "Enter the x term: 1000\n",
      "Enter the constant term: .001\n",
      "The solution is:  -0.999999999999\n"
     ]
    }
   ],
   "source": [
    "#part c\n",
    "import numpy as np\n",
    "\n",
    "a = float(input(\"Enter the x^2 term: \"))\n",
    "b = float(input(\"Enter the x term: \"))\n",
    "c = float(input(\"Enter the constant term: \"))\n",
    "\n",
    "squareroot = np.sqrt(b**2 - 4*a*c)\n",
    "\n",
    "formulaAdd = (-b + squareroot) / 2*a\n",
    "formulaSubtract = (-b - squareroot) / 2*a\n",
    "\n",
    "#epsilon test to see which root to actually use\n",
    "epsilon = 1.e-4\n",
    "\n",
    "if (abs((-b+squareroot)/b) < epsilon):\n",
    "    print (\"The solution is: \",formulaSubtract)\n",
    "else:\n",
    "    print(\"The solution is: \",formulaAdd)\n",
    "    \n"
   ]
  },
  {
   "cell_type": "markdown",
   "metadata": {},
   "source": [
    "## Exercise 4.4 \n",
    "\n",
    "### Calculating Integrals\n",
    "\n",
    "\n",
    "Suppose we want to calculate the value of:\n",
    "I = int(-1 to 1) (sqrt(1-x^2)dx)\n",
    "The integral looks like a semicircle of radius 1, thus the value of the integral is equal to .5pi.\n",
    "Alternatively we can evaluate the integral on the computer by dividing the domain of integration into a large number of N slices of width h = 2/N each and then using the Riemann sum.\n",
    "a)Write a program to evaluate the integral above with N = 100 and compare the result with the exact value (1.57079632679)\n",
    "b)Increase the value of N to geta  more accurate value for the integral. We want the program to run in about a second or less, how accurate can we get?"
   ]
  },
  {
   "cell_type": "code",
   "execution_count": 22,
   "metadata": {},
   "outputs": [
    {
     "name": "stdout",
     "output_type": "stream",
     "text": [
      "The integral is:  1.57079466372\n",
      "The difference to real is:  1.66307470906e-06\n"
     ]
    }
   ],
   "source": [
    "## @author: Gary Fowler\n",
    "\n",
    "\"\"\"\n",
    "@N: the number of slices\n",
    "@h: the width of N slices\n",
    "@k: the index for our summation\n",
    "@xk: the kth term of x, also the formula -1 + hk\n",
    "@yk: the kth term of y, also the formula sqrt(1-xk**2)\n",
    "@s: the running sum\n",
    "@real: the real solution we should receive with the given equation\n",
    "\n",
    "in this program we will calculate the quadratic equation solutions\n",
    "\n",
    "\"\"\"\n",
    "import numpy as np\n",
    "\n",
    "real = 1.57079632679\n",
    "N = 10000\n",
    "h = 2/N\n",
    "k = 1\n",
    "s = 0\n",
    "\n",
    "for k in range(1,N):\n",
    "    xk = -1 + h*k\n",
    "    yk = np.sqrt(1-xk**2)\n",
    "    s += h*yk\n",
    "    \n",
    "print(\"The integral is: \",s)\n",
    "print(\"The difference to real is: \",real-s)"
   ]
  },
  {
   "cell_type": "markdown",
   "metadata": {},
   "source": [
    "When N = 100 the solution we achieve is: 1.56913425555, the real value is: 1.57079632679.\n",
    "These are off by .002\n",
    "When using N = 1000, the program still runs relatively quick and we are off by 5.2e-5\n",
    "When using N = 10000, the program is still quick, and we are off by 1.7e-6, which in my opinion is close enough precision and quick enough calculation to determine N = 10000 as sufficient."
   ]
  }
 ],
 "metadata": {
  "kernelspec": {
   "display_name": "Python 3",
   "language": "python",
   "name": "python3"
  },
  "language_info": {
   "codemirror_mode": {
    "name": "ipython",
    "version": 3
   },
   "file_extension": ".py",
   "mimetype": "text/x-python",
   "name": "python",
   "nbconvert_exporter": "python",
   "pygments_lexer": "ipython3",
   "version": "3.6.1"
  }
 },
 "nbformat": 4,
 "nbformat_minor": 2
}
